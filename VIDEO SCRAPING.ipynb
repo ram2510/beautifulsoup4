{
 "cells": [
  {
   "cell_type": "code",
   "execution_count": 1,
   "metadata": {},
   "outputs": [],
   "source": [
    "# we import the neccesary packages\n",
    "import urllib.request as req\n",
    "import bs4 as bs"
   ]
  },
  {
   "cell_type": "code",
   "execution_count": 2,
   "metadata": {},
   "outputs": [
    {
     "name": "stdin",
     "output_type": "stream",
     "text": [
      "Enter the title of the video you would like to download\n",
      "= python\n"
     ]
    }
   ],
   "source": [
    "# this is the initial url for searching youtube videos\n",
    "yt_search_url = 'https://www.youtube.com/results?search_query='\n",
    "video_search = input('Enter the title of the video you would like to download\\n=')\n",
    "full_url = yt_search_url + video_search # this is the full url of the video\n",
    "links_array = [] # we will use this array for storing the links \n"
   ]
  },
  {
   "cell_type": "code",
   "execution_count": 3,
   "metadata": {},
   "outputs": [],
   "source": [
    "#we create a function for the web scrapin part\n",
    "def video_scraper(link):\n",
    "    title_no = 1 # this will display the title no of the video\n",
    "    \n",
    "    # we initialise the search for the web page\n",
    "    sauce = req.urlopen(link).read()\n",
    "\n",
    "    # we convert this into a beautifulsoup object\n",
    "    soup = bs.BeautifulSoup(sauce,'lxml')\n",
    "    \n",
    "    # this will store all the youtube links\n",
    "    yt_links = soup.find_all('a',class_=\"yt-uix-tile-link\")\n",
    "    \n",
    "    # for every youtube link we will be displaying the link using the href tag\n",
    "    for links in yt_links:\n",
    "        \n",
    "        print( f'{title_no})' + links.get('title'))\n",
    "        print(full_url + links.get('href'))\n",
    "        links_array.append(full_url + links.get('href'))\n",
    "        title_no +=1 # we increase the count"
   ]
  },
  {
   "cell_type": "code",
   "execution_count": 4,
   "metadata": {},
   "outputs": [
    {
     "name": "stdout",
     "output_type": "stream",
     "text": [
      "1)Data Science Tutorial\n",
      "https://www.youtube.com/results?search_query=pythonhttps://www.googleadservices.com/pagead/aclk?sa=L&ai=CWRjTtdrWW9OEKYzi2gTbxJqYDcfCwpBS2uDW4JIIwI23ARABIABg5dLmg7wOggEXY2EtcHViLTYyMTk4MTE3NDcwNDkzNzGgAfOC9NsDqQKo2ZA6wzxNPqgDBKoEwAFP0Dk4oO-plCYZ2YpjvopGxiHA5vrLHXwEbAfJQaKaL7R0zsNd8UAddVF9jA4p9nlKpUprbAEtgrgNmDNrFxSPlEPjAjgXcg5I7ViZh6odEkPhu7Xtoz_wwGgW1hC2YVm597cYVowFQpgfT6f_dVgoJj3Slh89NEdBnUYuS8qjDtE7KqInDll7bh58QeXAL1vvHUJTbr7hBETS-vN4XWy_kb3KqNZmuhivf1_jk0kHEJxd_SvJet0T7HzJZFIRiqKSBQ0IEjDEja3X1oDl64wBoAYagAeVtMIhkAcEqAfZyxuoB8_MG6gHjM0bqAfVzhuoB4HGG6gHmM4bqAerxRuoB97OG5IIC2pOZVVCV3JyUnNR0ggFCIBBEAGxCc2mPi5nEe1CyAkXuBPoAbAUAw&num=1&cid=CAASFeRoeic5kH4bfUuPNbizmGS9fGD8Jw&sig=AOD64_3Ylw7R8alPMh96HfpaxbVN2tgP7w&adurl=http://www.youtube.com/watch%3Fv%3DjNeUBWrrRsQ&ctype=21&video_id=jNeUBWrrRsQ&client=ca-pub-6219811747049371\n",
      "2)Learn Python - Full Course for Beginners\n",
      "https://www.youtube.com/results?search_query=python/watch?v=rfscVS0vtbw\n",
      "3)What Can You Do with Python Language? | Mosh\n",
      "https://www.youtube.com/results?search_query=python/watch?v=Y8Tko2YC5hA\n",
      "4)Python Tutorial for Beginners\n",
      "https://www.youtube.com/results?search_query=python/watch?v=QXeEoD0pB3E&list=PLsyeobzWxl7poL9JTVyndKe62ieoN-MZ3\n",
      "5)Minecraft Bamboo Jungle, PANDAS & Loom | Python's World (Minecraft Survival Let's Play) | Episode 95\n",
      "https://www.youtube.com/results?search_query=python/watch?v=1iJXCXKwugk\n",
      "6)What Can You Do with Python? - The 3 Main Applications\n",
      "https://www.youtube.com/results?search_query=python/watch?v=kLZuut1fYzQ\n",
      "7)Python OOP Tutorial 1: Classes and Instances\n",
      "https://www.youtube.com/results?search_query=python/watch?v=ZDa-Z5JzLYM\n",
      "8)Python Crash Course For Beginners\n",
      "https://www.youtube.com/results?search_query=python/watch?v=oy4GOI9vn5M\n",
      "9)Python Programming\n",
      "https://www.youtube.com/results?search_query=python/watch?v=N4mEzFDjqtA\n",
      "10)Python Tutorial for Absolute Beginners #1 - What Are Variables?\n",
      "https://www.youtube.com/results?search_query=python/watch?v=Z1Yd7upQsXY\n",
      "11)Lambda Expressions & Anonymous Functions ||  Python Tutorial  ||  Learn Python Programming\n",
      "https://www.youtube.com/results?search_query=python/watch?v=25ovCm9jKfA\n",
      "12)Real Python Attack On Monkey - Brave Boys Rescues Monkey From Python Attack - Python Vs Monkey\n",
      "https://www.youtube.com/results?search_query=python/watch?v=osCsCU62Jaw\n",
      "13)#4 Python Tutorial for Beginners | Variables in Python\n",
      "https://www.youtube.com/results?search_query=python/watch?v=TqPzwenhMj0\n",
      "14)Python for Beginners - Learn Python Programming Language in 2 Hours [2018] | Mosh\n",
      "https://www.youtube.com/results?search_query=python/watch?v=yE9v9rt6ziw\n",
      "15)10 Best Python Projects of 2018\n",
      "https://www.youtube.com/results?search_query=python/watch?v=G0rQ7AEl5LA\n",
      "16)#27 Python Tutorial for Beginners | Working with Matrix in Python\n",
      "https://www.youtube.com/results?search_query=python/watch?v=Blzp9iuhZqo\n",
      "17)Python\n",
      "https://www.youtube.com/results?search_query=python/watch?v=kWyoYtvJpe4&start_radio=1&list=RDQMgTJmXAVobVk\n",
      "18)Java vs Python Comparison | Which One You Should Learn? | Edureka\n",
      "https://www.youtube.com/results?search_query=python/watch?v=s3Ejdx6cIho\n",
      "19)How To Run Your Python Code Off of Amazon Web Services\n",
      "https://www.youtube.com/results?search_query=python/watch?v=WE303yFWfV4\n",
      "20)Learn Python Programming Tutorial Online Training by Durga Sir On 26-01-2018\n",
      "https://www.youtube.com/results?search_query=python/watch?v=CtbckFw0pJs\n",
      "21)Learn Python Session 05\n",
      "https://www.youtube.com/results?search_query=python/watch?v=xPW7sWLdlf8\n"
     ]
    }
   ],
   "source": [
    "video_scraper(full_url)"
   ]
  },
  {
   "cell_type": "code",
   "execution_count": 5,
   "metadata": {},
   "outputs": [
    {
     "name": "stdin",
     "output_type": "stream",
     "text": [
      "please enter the title number of the video\n",
      "= w\n"
     ]
    },
    {
     "name": "stdout",
     "output_type": "stream",
     "text": [
      "please enter the number in integer \n"
     ]
    },
    {
     "name": "stdin",
     "output_type": "stream",
     "text": [
      "please enter the title number of the video\n",
      "= 2\n"
     ]
    }
   ],
   "source": [
    "while True:\n",
    "    try:\n",
    "        choice = int(input('please enter the title number of the video\\n='))\n",
    "        \n",
    "    except ValueError:\n",
    "        print('please enter the number in integer ')\n",
    "        continue\n",
    "    else:\n",
    "        break"
   ]
  },
  {
   "cell_type": "code",
   "execution_count": 6,
   "metadata": {},
   "outputs": [
    {
     "name": "stdout",
     "output_type": "stream",
     "text": [
      "please click the link below to download a video\n",
      "https://www.dlyoutube.com/results?search_query=python/watch?v=rfscVS0vtbw\n"
     ]
    }
   ],
   "source": [
    "dl_adder = list(links_array[choice-1][:])\n",
    "dl_adder.insert(12,'d')\n",
    "dl_adder.insert(13,'l')\n",
    "print('please click the link below to download a video')\n",
    "print(''.join(dl_adder))"
   ]
  },
  {
   "cell_type": "code",
   "execution_count": null,
   "metadata": {},
   "outputs": [],
   "source": []
  }
 ],
 "metadata": {
  "kernelspec": {
   "display_name": "Python 3",
   "language": "python",
   "name": "python3"
  },
  "language_info": {
   "codemirror_mode": {
    "name": "ipython",
    "version": 3
   },
   "file_extension": ".py",
   "mimetype": "text/x-python",
   "name": "python",
   "nbconvert_exporter": "python",
   "pygments_lexer": "ipython3",
   "version": "3.7.1"
  }
 },
 "nbformat": 4,
 "nbformat_minor": 2
}
